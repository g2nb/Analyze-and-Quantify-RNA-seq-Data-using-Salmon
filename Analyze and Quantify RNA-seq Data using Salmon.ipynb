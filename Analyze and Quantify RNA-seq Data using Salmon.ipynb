{
 "cells": [
  {
   "cell_type": "markdown",
   "metadata": {},
   "source": [
    "# RNA-seq Quantification and Differential Gene Expression"
   ]
  },
  {
   "cell_type": "markdown",
   "metadata": {},
   "source": [
    "This notebook encapsulates the quantification of RNA-seq experiments using [Salmon](https://combine-lab.github.io/salmon/) (Patro et al.), the computation of differentially expressed genes using [DESeq2](https://genomebiology.biomedcentral.com/articles/10.1186/s13059-014-0550-8) (Love et al.), and identification of enriched gene sets with [GSEA](https://gsea-msigdb.org/) (Subramanian etl al.) or ssGSEA (Barbie et al.). These tools are implemented as GenePattern modules, enabling the use of a modern end-to-end gene expression analysis pipeline without local installations or compute resources."
   ]
  },
  {
   "cell_type": "markdown",
   "metadata": {},
   "source": [
    "## Log in to GenePattern"
   ]
  },
  {
   "cell_type": "markdown",
   "metadata": {},
   "source": [
    "You must log in to a GenePattern server. In this notebook we will use **```GenePattern Beta``` **\n",
    "\n",
    "Note: if you are not familiar with GenePattern Notebook features, you can review them here: <a href=\"https://notebook.genepattern.org/services/sharing/notebooks/361/preview/\">GenePattern Notebook Tutorial</a>.\n",
    "<div class=\"alert alert-info\">\n",
    "<p class=\"lead\"> Instructions <i class=\"fa fa-info-circle\"></i></p>\n",
    "Sign in to GenePattern by entering your username and password into the form below.\n",
    "</div>"
   ]
  },
  {
   "cell_type": "code",
   "execution_count": 9,
   "metadata": {
    "genepattern": {
     "name": "Login",
     "server": "https://beta.genepattern.org/gp",
     "show_code": true,
     "type": "auth"
    },
    "scrolled": false
   },
   "outputs": [
    {
     "data": {
      "application/vnd.jupyter.widget-view+json": {
       "model_id": "698828bf6d9947019237008640ea0bf9",
       "version_major": 2,
       "version_minor": 0
      },
      "text/plain": [
       "GPAuthWidget()"
      ]
     },
     "metadata": {},
     "output_type": "display_data"
    }
   ],
   "source": [
    "# Requires GenePattern Notebook: pip install genepattern-notebook\n",
    "import gp\n",
    "import genepattern\n",
    "\n",
    "# Username and password removed for security reasons.\n",
    "genepattern.display(genepattern.session.register(\"https://beta.genepattern.org/gp\", \"\", \"\"))"
   ]
  },
  {
   "cell_type": "markdown",
   "metadata": {},
   "source": [
    "# Indexing and Pseudoalignment using Salmon"
   ]
  },
  {
   "cell_type": "markdown",
   "metadata": {},
   "source": [
    "## Index a transcriptome with salmon.index\n",
    "\n",
    "The first step of the Salmon pipeline is to create sample-independent index of the transcriptiome, as well as \"decoy\" sequences from the genome. Building a decoy-aware index allows Salmon to mitigate potential spurious mapping of reads that actually arise from some unannotated genomic locus that is sequence-similar to an annotated transcriptome.\n",
    "\n",
    "The inpact of decoy-aware indexing is described in the following pre-print from the Salmon authors: [Alignment and mapping methodology influence transcript abundance estimation](https://www.biorxiv.org/content/10.1101/657874v1).\n",
    "\n",
    "An index, once constructed, can be reused for future experiments utilizing the same organism."
   ]
  },
  {
   "cell_type": "code",
   "execution_count": 14,
   "metadata": {
    "genepattern": {
     "description": "Salmon indexer for Gencode transcriptomes",
     "name": "salmon.index",
     "param_values": {
      "GTF.gz": null,
      "Genome.fa.gz": null,
      "Index.Mode": null,
      "Transcriptome.fa.gz": null,
      "Use.Gencode": null,
      "job.cpuCount": null,
      "job.memory": null,
      "job.queue": null,
      "job.walltime": null,
      "kmer": null,
      "output.index.name": null
     },
     "type": "task"
    },
    "scrolled": false
   },
   "outputs": [
    {
     "data": {
      "application/vnd.jupyter.widget-view+json": {
       "model_id": "bea470231e6e4c3283bfbad8dd476c42",
       "version_major": 2,
       "version_minor": 0
      },
      "text/plain": [
       "GPTaskWidget(lsid='urn:lsid:8080.gpserver.ip-172-31-26-71.ip-172-31-26-71.ec2.internal:genepatternmodules:9991…"
      ]
     },
     "metadata": {},
     "output_type": "display_data"
    }
   ],
   "source": [
    "salmon_index_task = gp.GPTask(genepattern.session.get(0), 'urn:lsid:8080.gpserver.ip-172-31-26-71.ip-172-31-26-71.ec2.internal:genepatternmodules:999179')\n",
    "salmon_index_job_spec = salmon_index_task.make_job_spec()\n",
    "salmon_index_job_spec.set_parameter(\"GTF.gz\", \"\")\n",
    "salmon_index_job_spec.set_parameter(\"Transcriptome.fa.gz\", \"\")\n",
    "salmon_index_job_spec.set_parameter(\"Genome.fa.gz\", \"\")\n",
    "salmon_index_job_spec.set_parameter(\"kmer\", \"31\")\n",
    "salmon_index_job_spec.set_parameter(\"Index.Mode\", \"full\")\n",
    "salmon_index_job_spec.set_parameter(\"output.index.name\", \"<GTF.gz_basename>\")\n",
    "salmon_index_job_spec.set_parameter(\"job.memory\", \"2 Gb\")\n",
    "salmon_index_job_spec.set_parameter(\"job.queue\", \"gp-new-beta\")\n",
    "salmon_index_job_spec.set_parameter(\"job.cpuCount\", \"1\")\n",
    "salmon_index_job_spec.set_parameter(\"job.walltime\", \"02:00:00\")\n",
    "genepattern.display(salmon_index_task)\n"
   ]
  },
  {
   "cell_type": "markdown",
   "metadata": {},
   "source": [
    "## Quantify against the index with salmon.quant\n",
    "\n",
    "Salmon will compute the mappings of raw reads against the transcriptome+decoy index, and produce estimations of the abundance of each transcript for each sample. The output is a single \"_.quant.sf_\" file for each sample, as well as an associated gzipped directory contaning detailed information from the alignment, and, if selected, bootstrapping estimations. If bootstrapping or gibbs sampling is run this gzipped directory contains the information needed to run [sleuth](https://pachterlab.github.io/sleuth/about) using the [wasabi](https://github.com/COMBINE-lab/wasabi) importer."
   ]
  },
  {
   "cell_type": "code",
   "execution_count": 15,
   "metadata": {
    "genepattern": {
     "description": "Perform transcript-level quantification of RNA-seq data using Salmon.<br>\n\nSee: <a href=\"https://salmon.readthedocs.io/en/latest/salmon.html#using-salmon\" target=\"_blank\">The Salmon User Guide</a>\nfor detailed usage guidelines.",
     "name": "salmon.quant",
     "param_values": {
      "Allow.Dovetail": null,
      "Dump.EQ": null,
      "Hard.Filter": null,
      "Library.Type": null,
      "Mimic.Bowtie": null,
      "N.Sampling": null,
      "Range.Factorization": null,
      "Range.Factorization.Bins": null,
      "Reads": null,
      "Recover.Orphans": null,
      "Sampling": null,
      "Transcriptome.Index": null,
      "biasSpeedSamp": null,
      "biasSpeedSamp.Factor": null,
      "gcBias": null,
      "job.cpuCount": null,
      "job.memory": null,
      "job.queue": null,
      "job.walltime": null,
      "posBias": null,
      "reduce.GC.Memory": null,
      "seqBias": null
     },
     "type": "task"
    },
    "scrolled": false
   },
   "outputs": [
    {
     "data": {
      "application/vnd.jupyter.widget-view+json": {
       "model_id": "8b654c172feb49b2b10db2d9f5987721",
       "version_major": 2,
       "version_minor": 0
      },
      "text/plain": [
       "GPTaskWidget(lsid='urn:lsid:8080.gpserver.ip-172-31-26-71.ip-172-31-26-71.ec2.internal:genepatternmodules:2991…"
      ]
     },
     "metadata": {},
     "output_type": "display_data"
    }
   ],
   "source": [
    "salmon_quant_task = gp.GPTask(genepattern.session.get(0), 'urn:lsid:8080.gpserver.ip-172-31-26-71.ip-172-31-26-71.ec2.internal:genepatternmodules:2991')\n",
    "salmon_quant_job_spec = salmon_quant_task.make_job_spec()\n",
    "salmon_quant_job_spec.set_parameter(\"Reads\", \"\")\n",
    "salmon_quant_job_spec.set_parameter(\"Transcriptome.Index\", \"\")\n",
    "salmon_quant_job_spec.set_parameter(\"Library.Type\", \"A\")\n",
    "salmon_quant_job_spec.set_parameter(\"Sampling\", \"BOOT\")\n",
    "salmon_quant_job_spec.set_parameter(\"seqBias\", \"true\")\n",
    "salmon_quant_job_spec.set_parameter(\"gcBias\", \"true\")\n",
    "salmon_quant_job_spec.set_parameter(\"posBias\", \"true\")\n",
    "salmon_quant_job_spec.set_parameter(\"N.Sampling\", \"30\")\n",
    "salmon_quant_job_spec.set_parameter(\"Mimic.Bowtie\", \"off\")\n",
    "salmon_quant_job_spec.set_parameter(\"Recover.Orphans\", \"false\")\n",
    "salmon_quant_job_spec.set_parameter(\"Hard.Filter\", \"false\")\n",
    "salmon_quant_job_spec.set_parameter(\"Allow.Dovetail\", \"false\")\n",
    "salmon_quant_job_spec.set_parameter(\"Dump.EQ\", \"false\")\n",
    "salmon_quant_job_spec.set_parameter(\"reduce.GC.Memory\", \"false\")\n",
    "salmon_quant_job_spec.set_parameter(\"Range.Factorization\", \"false\")\n",
    "salmon_quant_job_spec.set_parameter(\"Range.Factorization.Bins\", \"4\")\n",
    "salmon_quant_job_spec.set_parameter(\"biasSpeedSamp\", \"false\")\n",
    "salmon_quant_job_spec.set_parameter(\"biasSpeedSamp.Factor\", \"5\")\n",
    "salmon_quant_job_spec.set_parameter(\"job.memory\", \"2 Gb\")\n",
    "salmon_quant_job_spec.set_parameter(\"job.queue\", \"gp-new-beta\")\n",
    "salmon_quant_job_spec.set_parameter(\"job.cpuCount\", \"1\")\n",
    "salmon_quant_job_spec.set_parameter(\"job.walltime\", \"02:00:00\")\n",
    "genepattern.display(salmon_quant_task)\n"
   ]
  },
  {
   "cell_type": "markdown",
   "metadata": {},
   "source": [
    "# Collapse transcript-level quantifications to gene-level with tximport, and compute differential gene expression with DESeq2\n",
    "\n",
    "Using tximport, transcript-level quantifications from Salmon can be extracted and collapsed to gene level, allowing for differential gene expression analayis using classical tools like DESeq2 (Love et al.). \n",
    "\n",
    "The tximport.DESeq2.Normalize module takes transcript-level quantifications from salmon, and other tools, and outputs data at gene-level. \n",
    "\n",
    "Output options are \"normalized counts\" which are counts normalized for between-sample comparisons utilizing the DESeq2 algorithm (suitable for GSEA), or within-sample normalized TPM values (suitable for ssGSEA). If a Sample Info file is provided, this module will also output DESeq2's differential expression calculations. Additionally, if the Sample Info file is provided, phenotype information will be used to produce a formatted CLS file for use with GSEA.\n",
    "\n",
    "<b>Note: </b> Be sure to set \"Quant Type\" to \"Salmon .quant.sf\"."
   ]
  },
  {
   "cell_type": "code",
   "execution_count": 16,
   "metadata": {
    "genepattern": {
     "description": "Imports RNA-seq quantifications from frequently used pipelines using the tximport package and outputs a DESeq2 \"normalized counts\" file in .GCT format suitable for use with GSEA, <br>and/or a TPM .GCT suitable for ssGSEA.<br>\nIf a Sample Info file is provided containing assignments of samples to phenotypes, gene level differential expression will be calculated using DESeq2 for the two phenotypes.",
     "name": "tximport.DESeq2.Normalize",
     "param_values": {
      "Annotate.DEGs": null,
      "Output.Normalized.Counts": null,
      "Output.TPM": null,
      "Quant.Type": null,
      "Quantifications": null,
      "Reverse.Sign": null,
      "Sample.Info": null,
      "Split.Identifiers": null,
      "Transcriptome.Database": null,
      "job.cpuCount": null,
      "job.memory": null,
      "job.queue": null,
      "job.walltime": null,
      "output.file.base": null,
      "random.seed": null
     },
     "type": "task"
    }
   },
   "outputs": [
    {
     "data": {
      "application/vnd.jupyter.widget-view+json": {
       "model_id": "170ebdf8a5bb4a3fb87cb51ac878a16f",
       "version_major": 2,
       "version_minor": 0
      },
      "text/plain": [
       "GPTaskWidget(lsid='urn:lsid:8080.gpserver.ip-172-31-26-71.ip-172-31-26-71.ec2.internal:genepatternmodules:179'…"
      ]
     },
     "metadata": {},
     "output_type": "display_data"
    }
   ],
   "source": [
    "tximport_deseq2_normalize_task = gp.GPTask(genepattern.session.get(0), 'urn:lsid:8080.gpserver.ip-172-31-26-71.ip-172-31-26-71.ec2.internal:genepatternmodules:179')\n",
    "tximport_deseq2_normalize_job_spec = tximport_deseq2_normalize_task.make_job_spec()\n",
    "tximport_deseq2_normalize_job_spec.set_parameter(\"Quantifications\", \"\")\n",
    "tximport_deseq2_normalize_job_spec.set_parameter(\"Sample.Info\", \"\")\n",
    "tximport_deseq2_normalize_job_spec.set_parameter(\"Quant.Type\", \"RSEM\")\n",
    "tximport_deseq2_normalize_job_spec.set_parameter(\"Transcriptome.Database\", \"\")\n",
    "tximport_deseq2_normalize_job_spec.set_parameter(\"Output.Normalized.Counts\", \"TRUE\")\n",
    "tximport_deseq2_normalize_job_spec.set_parameter(\"Output.TPM\", \"TRUE\")\n",
    "tximport_deseq2_normalize_job_spec.set_parameter(\"output.file.base\", \"Merged.Data\")\n",
    "tximport_deseq2_normalize_job_spec.set_parameter(\"Reverse.Sign\", \"FALSE\")\n",
    "tximport_deseq2_normalize_job_spec.set_parameter(\"Annotate.DEGs\", \"TRUE\")\n",
    "tximport_deseq2_normalize_job_spec.set_parameter(\"Split.Identifiers\", \"TRUE\")\n",
    "tximport_deseq2_normalize_job_spec.set_parameter(\"random.seed\", \"779948241\")\n",
    "tximport_deseq2_normalize_job_spec.set_parameter(\"job.memory\", \"2 Gb\")\n",
    "tximport_deseq2_normalize_job_spec.set_parameter(\"job.queue\", \"gp-new-beta\")\n",
    "tximport_deseq2_normalize_job_spec.set_parameter(\"job.cpuCount\", \"1\")\n",
    "tximport_deseq2_normalize_job_spec.set_parameter(\"job.walltime\", \"02:00:00\")\n",
    "genepattern.display(tximport_deseq2_normalize_task)\n"
   ]
  },
  {
   "cell_type": "markdown",
   "metadata": {},
   "source": [
    "# Run GSEA on Normalized Counts\n",
    "\n",
    "Select the normalized counts output from the tximport.DESeq2 module in the drop-down for the expression dataset. If a sample info file was also provided, select the .cls file created for the phenotype labels drop-down, otherwise, upload a manually created phenotype labels cls.\n",
    "\n",
    "Be sure to select the appropriate chip platform file for the transcriptome used in the Salmon quantification. For Gencode and Ensembl transcriptomes, this should be the species-sepecific _Ensembl_Gene_ID_ chip file. We also recomend setting the Advanced parameter \"collapsing mode for probe sets with more than one match\" to \"sum_of_probes\"."
   ]
  },
  {
   "cell_type": "code",
   "execution_count": 10,
   "metadata": {
    "genepattern": {
     "description": "Gene Set Enrichment Analysis.  <strong>If you are using GSEA on RNA-seq data, please read <a href=\"http://software.broadinstitute.org/cancer/software/gsea/wiki/index.php/Using_RNA-seq_Datasets_with_GSEA\" target=\"_blank\">these guidelines</a>.</strong>",
     "name": "GSEA",
     "param_values": {
      "alt.delim": null,
      "chip.platform.file": null,
      "collapse.dataset": null,
      "collapsing.mode.for.probe.sets.with.more.than.one.match": null,
      "create.gcts": null,
      "create.svgs": null,
      "create.zip": null,
      "dev.mode": null,
      "expression.dataset": null,
      "gene.list.ordering.mode": null,
      "gene.list.sorting.mode": null,
      "gene.sets.database": null,
      "job.cpuCount": null,
      "job.memory": null,
      "job.queue": null,
      "job.walltime": null,
      "make.detailed.gene.set.report": null,
      "max.gene.set.size": null,
      "median.for.class.metrics": null,
      "metric.for.ranking.genes": null,
      "min.gene.set.size": null,
      "normalization.mode": null,
      "number.of.markers": null,
      "number.of.permutations": null,
      "omit.features.with.no.symbol.match": null,
      "output.file.name": null,
      "permutation.type": null,
      "phenotype.labels": null,
      "plot.graphs.for.the.top.sets.of.each.phenotype": null,
      "random.seed": null,
      "randomization.mode": null,
      "save.random.ranked.lists": null,
      "scoring.scheme": null,
      "selected.gene.sets": null,
      "target.profile": null
     },
     "type": "task"
    },
    "scrolled": false
   },
   "outputs": [
    {
     "data": {
      "application/vnd.jupyter.widget-view+json": {
       "model_id": "120ead2ec52142e985ccd7478dbedcad",
       "version_major": 2,
       "version_minor": 0
      },
      "text/plain": [
       "GPTaskWidget(lsid='urn:lsid:broad.mit.edu:cancer.software.genepattern.module.analysis:00072')"
      ]
     },
     "metadata": {},
     "output_type": "display_data"
    }
   ],
   "source": [
    "gsea_task = gp.GPTask(genepattern.session.get(0), 'urn:lsid:broad.mit.edu:cancer.software.genepattern.module.analysis:00072')\n",
    "gsea_job_spec = gsea_task.make_job_spec()\n",
    "gsea_job_spec.set_parameter(\"expression.dataset\", \"\")\n",
    "gsea_job_spec.set_parameter(\"gene.sets.database\", \"\")\n",
    "gsea_job_spec.set_parameter(\"number.of.permutations\", \"1000\")\n",
    "gsea_job_spec.set_parameter(\"phenotype.labels\", \"\")\n",
    "gsea_job_spec.set_parameter(\"target.profile\", \"\")\n",
    "gsea_job_spec.set_parameter(\"collapse.dataset\", \"Collapse\")\n",
    "gsea_job_spec.set_parameter(\"permutation.type\", \"phenotype\")\n",
    "gsea_job_spec.set_parameter(\"chip.platform.file\", \"\")\n",
    "gsea_job_spec.set_parameter(\"scoring.scheme\", \"weighted\")\n",
    "gsea_job_spec.set_parameter(\"metric.for.ranking.genes\", \"Signal2Noise\")\n",
    "gsea_job_spec.set_parameter(\"gene.list.sorting.mode\", \"real\")\n",
    "gsea_job_spec.set_parameter(\"gene.list.ordering.mode\", \"descending\")\n",
    "gsea_job_spec.set_parameter(\"max.gene.set.size\", \"500\")\n",
    "gsea_job_spec.set_parameter(\"min.gene.set.size\", \"15\")\n",
    "gsea_job_spec.set_parameter(\"collapsing.mode.for.probe.sets.with.more.than.one.match\", \"Max_probe\")\n",
    "gsea_job_spec.set_parameter(\"normalization.mode\", \"meandiv\")\n",
    "gsea_job_spec.set_parameter(\"randomization.mode\", \"no_balance\")\n",
    "gsea_job_spec.set_parameter(\"omit.features.with.no.symbol.match\", \"true\")\n",
    "gsea_job_spec.set_parameter(\"make.detailed.gene.set.report\", \"true\")\n",
    "gsea_job_spec.set_parameter(\"median.for.class.metrics\", \"false\")\n",
    "gsea_job_spec.set_parameter(\"number.of.markers\", \"100\")\n",
    "gsea_job_spec.set_parameter(\"plot.graphs.for.the.top.sets.of.each.phenotype\", \"20\")\n",
    "gsea_job_spec.set_parameter(\"random.seed\", \"timestamp\")\n",
    "gsea_job_spec.set_parameter(\"save.random.ranked.lists\", \"false\")\n",
    "gsea_job_spec.set_parameter(\"create.svgs\", \"false\")\n",
    "gsea_job_spec.set_parameter(\"selected.gene.sets\", \"\")\n",
    "gsea_job_spec.set_parameter(\"output.file.name\", \"<expression.dataset_basename>.zip\")\n",
    "gsea_job_spec.set_parameter(\"alt.delim\", \"\")\n",
    "gsea_job_spec.set_parameter(\"create.zip\", \"true\")\n",
    "gsea_job_spec.set_parameter(\"create.gcts\", \"false\")\n",
    "gsea_job_spec.set_parameter(\"dev.mode\", \"false\")\n",
    "gsea_job_spec.set_parameter(\"job.memory\", \"8 Gb\")\n",
    "gsea_job_spec.set_parameter(\"job.queue\", \"gp-new-beta\")\n",
    "gsea_job_spec.set_parameter(\"job.cpuCount\", \"1\")\n",
    "gsea_job_spec.set_parameter(\"job.walltime\", \"02:00:00\")\n",
    "genepattern.display(gsea_task)\n"
   ]
  },
  {
   "cell_type": "markdown",
   "metadata": {},
   "source": [
    "# Single sample GSEA using TPM normalized data\n",
    "\n",
    "We will use the GenePattern ssGSEA analysis module to transform a gene expression dataset into a dataset where each row corresponds to a pathway, and each column is a sample. Each value in the new dataset will therefore represent the up- or downregulation of a pathway (row) within a sample (column)."
   ]
  },
  {
   "cell_type": "markdown",
   "metadata": {},
   "source": [
    "## Collapse Dataset"
   ]
  },
  {
   "cell_type": "code",
   "execution_count": 11,
   "metadata": {
    "genepattern": {
     "description": "Collapse Dataset as implemented by Gene Set Enrichment Analysis",
     "name": "GSEACollapseDataset",
     "param_values": {
      "chip.platform.file": null,
      "collapsing.mode": null,
      "dev.mode": null,
      "expression.dataset": null,
      "job.cpuCount": null,
      "job.memory": null,
      "job.queue": null,
      "job.walltime": null,
      "omit.features.with.no.symbol.match": null
     },
     "type": "task"
    }
   },
   "outputs": [
    {
     "data": {
      "application/vnd.jupyter.widget-view+json": {
       "model_id": "9f8b7619f39f445b854f02dd8d39a867",
       "version_major": 2,
       "version_minor": 0
      },
      "text/plain": [
       "GPTaskWidget(lsid='urn:lsid:broad.mit.edu:cancer.software.genepattern.module.analysis:00357')"
      ]
     },
     "metadata": {},
     "output_type": "display_data"
    }
   ],
   "source": [
    "gseacollapsedataset_task = gp.GPTask(genepattern.session.get(0), 'urn:lsid:broad.mit.edu:cancer.software.genepattern.module.analysis:00357')\n",
    "gseacollapsedataset_job_spec = gseacollapsedataset_task.make_job_spec()\n",
    "gseacollapsedataset_job_spec.set_parameter(\"expression.dataset\", \"\")\n",
    "gseacollapsedataset_job_spec.set_parameter(\"chip.platform.file\", \"\")\n",
    "gseacollapsedataset_job_spec.set_parameter(\"collapsing.mode\", \"Max_probe\")\n",
    "gseacollapsedataset_job_spec.set_parameter(\"omit.features.with.no.symbol.match\", \"true\")\n",
    "gseacollapsedataset_job_spec.set_parameter(\"dev.mode\", \"false\")\n",
    "gseacollapsedataset_job_spec.set_parameter(\"job.memory\", \"2 Gb\")\n",
    "gseacollapsedataset_job_spec.set_parameter(\"job.queue\", \"gp-new-beta\")\n",
    "gseacollapsedataset_job_spec.set_parameter(\"job.cpuCount\", \"1\")\n",
    "gseacollapsedataset_job_spec.set_parameter(\"job.walltime\", \"02:00:00\")\n",
    "genepattern.display(gseacollapsedataset_task)\n"
   ]
  },
  {
   "cell_type": "markdown",
   "metadata": {},
   "source": [
    "## Run ssGSEA"
   ]
  },
  {
   "cell_type": "code",
   "execution_count": 12,
   "metadata": {
    "genepattern": {
     "description": "Performs single sample GSEA.  NOTE: with the release of v10.0.1, this module was renamed from \"ssGSEAProjection\" to just \"ssGSEA\"",
     "name": "ssGSEA",
     "param_values": {
      "combine.mode": null,
      "gene.set.selection": null,
      "gene.sets.database.files": null,
      "gene.symbol.column": null,
      "input.gct.file": null,
      "job.cpuCount": null,
      "job.memory": null,
      "job.queue": null,
      "job.walltime": null,
      "min.gene.set.size": null,
      "output.file.prefix": null,
      "sample.normalization.method": null,
      "weighting.exponent": null
     },
     "type": "task"
    }
   },
   "outputs": [
    {
     "data": {
      "application/vnd.jupyter.widget-view+json": {
       "model_id": "bcfbf9c445364c4eafb5499b10da65a6",
       "version_major": 2,
       "version_minor": 0
      },
      "text/plain": [
       "GPTaskWidget(lsid='urn:lsid:broad.mit.edu:cancer.software.genepattern.module.analysis:00270')"
      ]
     },
     "metadata": {},
     "output_type": "display_data"
    }
   ],
   "source": [
    "ssgsea_task = gp.GPTask(genepattern.session.get(0), 'urn:lsid:broad.mit.edu:cancer.software.genepattern.module.analysis:00270')\n",
    "ssgsea_job_spec = ssgsea_task.make_job_spec()\n",
    "ssgsea_job_spec.set_parameter(\"input.gct.file\", \"\")\n",
    "ssgsea_job_spec.set_parameter(\"output.file.prefix\", \"\")\n",
    "ssgsea_job_spec.set_parameter(\"gene.sets.database.files\", \"\")\n",
    "ssgsea_job_spec.set_parameter(\"gene.symbol.column\", \"Name\")\n",
    "ssgsea_job_spec.set_parameter(\"gene.set.selection\", \"ALL\")\n",
    "ssgsea_job_spec.set_parameter(\"sample.normalization.method\", \"none\")\n",
    "ssgsea_job_spec.set_parameter(\"weighting.exponent\", \"0.75\")\n",
    "ssgsea_job_spec.set_parameter(\"min.gene.set.size\", \"10\")\n",
    "ssgsea_job_spec.set_parameter(\"combine.mode\", \"combine.add\")\n",
    "ssgsea_job_spec.set_parameter(\"job.memory\", \"2 Gb\")\n",
    "ssgsea_job_spec.set_parameter(\"job.queue\", \"gp-new-beta\")\n",
    "ssgsea_job_spec.set_parameter(\"job.cpuCount\", \"1\")\n",
    "ssgsea_job_spec.set_parameter(\"job.walltime\", \"02:00:00\")\n",
    "genepattern.display(ssgsea_task)\n"
   ]
  },
  {
   "cell_type": "markdown",
   "metadata": {},
   "source": [
    "# Differential ssGSEA with ssGSEA_ROC\n",
    "\n",
    "We will use the GenePattern ssGSEA_ROC module, which implements the R package ROCR (Sing et al.) to analyze the coherence between an assigned phenotype for the samples (e.g. high or low expression of a specific marker gene) and enrichment of the selected gene sets. For each gene set, the Matthews correlation coefficient, the area under the curve (AUC), a two-sided wilcox test on the ssSGEA scores and a number of other metrics are calculated.\n",
    "\n",
    "For datasets with ≥7 samples in both phenotypes, ssGSEA_ROC utilizes a modified version of the GSEA phenotype permutation algorithm to calcualte GSEA style NOM pValues and FDRs on the basis of permutation of the sample-to-phenotype assignments. "
   ]
  },
  {
   "cell_type": "code",
   "execution_count": 13,
   "metadata": {
    "genepattern": {
     "description": "Generate ROC curves and calculate the AUC from ssGSEA results and a binary phenotype classification.",
     "name": "ssGSEA_ROC",
     "param_values": {
      "CLS": null,
      "PROJ.gct": null,
      "Plot.Top.Results": null,
      "Reverse": null,
      "job.cpuCount": null,
      "job.memory": null,
      "job.queue": null,
      "job.walltime": null
     },
     "type": "task"
    },
    "scrolled": false
   },
   "outputs": [
    {
     "data": {
      "application/vnd.jupyter.widget-view+json": {
       "model_id": "c261b4b0f0844b6aba7727f58ebad97a",
       "version_major": 2,
       "version_minor": 0
      },
      "text/plain": [
       "GPTaskWidget(lsid='urn:lsid:8080.gpserver.ip-172-31-26-71.ip-172-31-26-71.ec2.internal:genepatternmodules:177'…"
      ]
     },
     "metadata": {},
     "output_type": "display_data"
    }
   ],
   "source": [
    "ssgsea_roc_task = gp.GPTask(genepattern.session.get(0), 'urn:lsid:8080.gpserver.ip-172-31-26-71.ip-172-31-26-71.ec2.internal:genepatternmodules:177')\n",
    "ssgsea_roc_job_spec = ssgsea_roc_task.make_job_spec()\n",
    "ssgsea_roc_job_spec.set_parameter(\"PROJ.gct\", \"\")\n",
    "ssgsea_roc_job_spec.set_parameter(\"CLS\", \"\")\n",
    "ssgsea_roc_job_spec.set_parameter(\"Reverse\", \"FALSE\")\n",
    "ssgsea_roc_job_spec.set_parameter(\"Plot.Top.Results\", \"20\")\n",
    "ssgsea_roc_job_spec.set_parameter(\"job.memory\", \"2 Gb\")\n",
    "ssgsea_roc_job_spec.set_parameter(\"job.queue\", \"gp-new-beta\")\n",
    "ssgsea_roc_job_spec.set_parameter(\"job.cpuCount\", \"1\")\n",
    "ssgsea_roc_job_spec.set_parameter(\"job.walltime\", \"02:00:00\")\n",
    "genepattern.display(ssgsea_roc_task)\n"
   ]
  },
  {
   "cell_type": "markdown",
   "metadata": {},
   "source": [
    "# References"
   ]
  },
  {
   "cell_type": "markdown",
   "metadata": {},
   "source": [
    "- Barbie DA, Tamayo P, et al. Systematic RNA interference reveals that oncogenic KRAS-driven cancers require TBK1. Nature. 2009;462:108-112. https://pubmed.ncbi.nlm.nih.gov/19847166/\n",
    "\n",
    "- Chicco D, Jurman G. The advantages of the Matthews correlation coefficient (MCC) over F1 score and accuracy in binary classification evaluation. BMC Genomics 2020;21:6. https://doi.org/10.1186/s12864-019-6413-7\n",
    "\n",
    "- Love MI, Huber W, Anders S. Moderated estimation of fold change and dispersion for RNA-seq data with DESeq2. Genome Biol. 2014;15(12):550. https://doi.org/10.1186/s13059-014-0550-8\n",
    "\n",
    "- Patro R, Duggal G, Love MI, Irizarry RA, Kingsford C. Salmon provides fast and bias-aware quantification of transcript expression. Nat Methods. 2017 Apr;14(4):417-419. Epub 2017 Mar 6. PMID: 28263959; https://doi.org/10.1038/nmeth.4197\n",
    "\n",
    "- Sing T, Sander O, Beerenwinkel N, Lengauer T. ROCR: visualizing classifier performance in R. Bioinformatics. 2005;21(20):3940-3941. https://doi.org/10.1093/bioinformatics/bti623\n",
    "\n",
    "- Subramanian A, Tamayo P, Mootha VK, Mukherjee S, Ebert BL, Gillette MA, Paulovich A, Pomeroy SL, Golub TR, Lander ES, Mesirov JP. Gene set enrichment analysis: A knowledge-based approach for interpreting genome-wide expression profiles. PNAS. 2005;102(43):15545-15550. http://www.pnas.org/content/102/43/15545.abstract\n",
    "\n",
    "- MSigDB website (http://www.msigdb.org)\n",
    "- GSEA website (https://www.gsea-msigdb.org)\n"
   ]
  }
 ],
 "metadata": {
  "kernelspec": {
   "display_name": "Python 3.8",
   "language": "python",
   "name": "python3.8"
  },
  "language_info": {
   "codemirror_mode": {
    "name": "ipython",
    "version": 3
   },
   "file_extension": ".py",
   "mimetype": "text/x-python",
   "name": "python",
   "nbconvert_exporter": "python",
   "pygments_lexer": "ipython3",
   "version": "3.8.6"
  },
  "toc": {
   "base_numbering": 1,
   "nav_menu": {},
   "number_sections": false,
   "sideBar": true,
   "skip_h1_title": false,
   "title_cell": "Table of Contents",
   "title_sidebar": "Contents",
   "toc_cell": false,
   "toc_position": {},
   "toc_section_display": true,
   "toc_window_display": false
  }
 },
 "nbformat": 4,
 "nbformat_minor": 4
}
